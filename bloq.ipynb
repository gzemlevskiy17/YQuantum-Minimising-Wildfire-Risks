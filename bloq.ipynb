{
 "cells": [
  {
   "cell_type": "code",
   "execution_count": 2,
   "metadata": {},
   "outputs": [],
   "source": [
    "Rb = 7.568067737283432\n",
    "RbO = 8.36675464062834\n",
    "RbD = 7.568067737283431\n",
    "Delta_end = 28.84624072309878\n",
    "\n",
    "from bloqade.analog import load, save, get_capabilities, piecewise_linear\n",
    "from bloqade.analog.atom_arrangement import Square\n",
    "\n",
    "import numpy as np\n",
    "import os\n",
    "import matplotlib.pyplot as plt\n",
    "\n",
    "from bokeh.io import output_notebook\n",
    "\n",
    "lattice_spacing = 5.0\n",
    "\n",
    "# get capabilities for Aquila\n",
    "aquila_capabilities = get_capabilities()\n",
    "\n",
    "C6=float(aquila_capabilities.capabilities.rydberg.c6_coefficient)\n",
    "Omega_max= float(aquila_capabilities.capabilities.rydberg.global_.rabi_frequency_max) #2*np.pi*4 #\n",
    "\n",
    "Rba=np.sqrt(2*np.sqrt(2))\n",
    "Rb=Rba*lattice_spacing\n",
    "\n",
    "Delta_end= (C6)/Rb**6 #final detuning 2*np.pi*11\n",
    "\n",
    "RbO=(C6/Omega_max)**(1/6)\n",
    "RbD=(C6/Delta_end)**(1/6)"
   ]
  },
  {
   "cell_type": "code",
   "execution_count": 3,
   "metadata": {},
   "outputs": [],
   "source": [
    "def n_probable_counts(report, n=1):\n",
    "    return list(report.counts()[0].keys())[:n]\n",
    "\n",
    "def remove_site_indices(bitstring):\n",
    "    return [i for i, bit in enumerate(bitstring) if bit == '0']\n",
    "\n",
    "def post_processing(result, lattice, lattice_spacing):\n",
    "    report = result.report()\n",
    "    bitstring = n_probable_counts(report)[0]\n",
    "    indices = remove_site_indices(bitstring)\n",
    "    \n",
    "    children = lattice.children()\n",
    "    locs = [children[i].position for i in range(len(children))]\n",
    "    filled = [i not in indices for i in range(len(children))]\n",
    "    \n",
    "    new_lattice = Square(0, lattice_spacing=lattice_spacing).add_position(locs, filled).remove_vacant_sites()\n",
    "    return new_lattice, indices\n",
    "\n",
    "def mis(lattice, lattice_spacing, Omega_max, Delta_end, global_indices=None, portfolios=None):\n",
    "    if portfolios is None:\n",
    "        portfolios = []\n",
    "    if global_indices is None:\n",
    "        global_indices = list(range(len(lattice.children())))\n",
    "\n",
    "    if len(global_indices) == 0:\n",
    "        return portfolios\n",
    "\n",
    "    lattice.show()\n",
    "\n",
    "    # Setup annealing pulse\n",
    "    T_max = 4\n",
    "    sweep_time = 0.8 * T_max\n",
    "    ramp_time = 0.1 * T_max\n",
    "    durations = [ramp_time, sweep_time, ramp_time]\n",
    "\n",
    "    RabiProtocol = piecewise_linear(durations, [0.0, Omega_max, Omega_max, 0.0])\n",
    "    DeltaProtocol = piecewise_linear(durations, [-Delta_end, -Delta_end, Delta_end, Delta_end])\n",
    "\n",
    "    program = (\n",
    "        lattice.rydberg.rabi.amplitude.uniform.apply(RabiProtocol)\n",
    "        .detuning.uniform.apply(DeltaProtocol)\n",
    "    )\n",
    "\n",
    "    result = program.bloqade.python().run(100, interaction_picture=True)\n",
    "    new_lattice, removed_local_indices = post_processing(result, lattice, lattice_spacing)\n",
    "\n",
    "    # Map local indices back to global ones\n",
    "    removed_global_indices = [global_indices[i] for i in removed_local_indices]\n",
    "    portfolios.append(removed_global_indices)\n",
    "\n",
    "    # Prepare global indices for next iteration\n",
    "    new_global_indices = [global_indices[i] for i in range(len(global_indices)) if i not in removed_local_indices]\n",
    "\n",
    "    if len(new_global_indices) == 0:\n",
    "        return portfolios\n",
    "    else:\n",
    "        return mis(new_lattice, lattice_spacing, Omega_max, Delta_end, new_global_indices, portfolios)\n"
   ]
  },
  {
   "cell_type": "code",
   "execution_count": 4,
   "metadata": {},
   "outputs": [
    {
     "name": "stdout",
     "output_type": "stream",
     "text": [
      "MIS portfolios (global indices): [[0, 4, 8, 11], [2, 3, 7, 9], [1, 5, 10], [6]]\n"
     ]
    }
   ],
   "source": [
    "rng = np.random.default_rng(1234)\n",
    "lattice_init = Square(4, lattice_spacing=lattice_spacing).apply_defect_density(0.3, rng=rng).remove_vacant_sites()\n",
    "portfolios = mis(lattice_init, lattice_spacing, Omega_max, Delta_end)\n",
    "print(\"MIS portfolios (global indices):\", portfolios)"
   ]
  }
 ],
 "metadata": {
  "kernelspec": {
   "display_name": "venv",
   "language": "python",
   "name": "python3"
  },
  "language_info": {
   "codemirror_mode": {
    "name": "ipython",
    "version": 3
   },
   "file_extension": ".py",
   "mimetype": "text/x-python",
   "name": "python",
   "nbconvert_exporter": "python",
   "pygments_lexer": "ipython3",
   "version": "3.12.9"
  }
 },
 "nbformat": 4,
 "nbformat_minor": 2
}
