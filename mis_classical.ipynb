{
 "cells": [
  {
   "cell_type": "code",
   "execution_count": null,
   "id": "ebc19165",
   "metadata": {},
   "outputs": [],
   "source": [
    "import networkx as nx\n",
    "from networkx.algorithms import approximation as approx"
   ]
  },
  {
   "cell_type": "code",
   "execution_count": null,
   "id": "52ed7bbe",
   "metadata": {},
   "outputs": [],
   "source": [
    "#TODO: account for radius and stuff"
   ]
  },
  {
   "cell_type": "code",
   "execution_count": null,
   "id": "dbef50f9",
   "metadata": {},
   "outputs": [],
   "source": [
    "#initial graph (test example)\n",
    "atomlist =  [\n",
    "    (1, 2),\n",
    "    (2, 3),\n",
    "    (1, 4),\n",
    "    (3, 4)\n",
    "]\n",
    "G = nx.Graph(atomlist)\n",
    "colors = [\"red\", \"blue\", \"green\", \"yellow\", \"magenta\", \"cyan\", \"orange\", \"purple\"]\n",
    "color_dict = {} #nodes matched to colors\n",
    "color_counter = 0\n",
    "G1 = G.copy()\n",
    "while (G1.number_of_nodes() > 0):\n",
    "    mis = approx.maximum_independent_set(G1)  \n",
    "    for node in mis:\n",
    "        color_dict[node] = colors[color_counter]\n",
    "    G1.remove_nodes_from(mis)\n",
    "    color_counter+=1\n",
    "    \n",
    "#convert color dict to color list for correct order\n",
    "color_list = [\"\"]*len(color_dict)\n",
    "for node in color_dict:\n",
    "    color_list[node - 1] = color_dict[node]\n",
    "\n",
    "#show final graph\n",
    "nx.draw(\n",
    "   G,\n",
    "   pos=pos,\n",
    "   with_labels=True, #testing\n",
    "   node_color=color_list\n",
    ")"
   ]
  },
  {
   "cell_type": "code",
   "execution_count": null,
   "id": "66ba75d1",
   "metadata": {},
   "outputs": [],
   "source": [
    "# testing\n",
    "# G = nx.Graph(\n",
    "#     [\n",
    "#         (1, 2),\n",
    "#         (2, 3),\n",
    "#         (1, 4),\n",
    "#         (3, 4)\n",
    "#     ]\n",
    "# )\n",
    "\n",
    "# mis = approx.maximum_independent_set(G)\n",
    "# print(mis)\n",
    "\n",
    "# pos = nx.spring_layout(G, iterations=100, seed=42)\n",
    "# nx.draw(\n",
    "#     G,\n",
    "#     pos=pos,\n",
    "#     with_labels=True,\n",
    "#     node_color=[\"tab:red\" if n in mis else \"tab:blue\" for n in G],\n",
    "# )"
   ]
  }
 ],
 "metadata": {
  "kernelspec": {
   "display_name": "venv",
   "language": "python",
   "name": "python3"
  },
  "language_info": {
   "codemirror_mode": {
    "name": "ipython",
    "version": 3
   },
   "file_extension": ".py",
   "mimetype": "text/x-python",
   "name": "python",
   "nbconvert_exporter": "python",
   "pygments_lexer": "ipython3",
   "version": "3.12.9"
  }
 },
 "nbformat": 4,
 "nbformat_minor": 5
}
