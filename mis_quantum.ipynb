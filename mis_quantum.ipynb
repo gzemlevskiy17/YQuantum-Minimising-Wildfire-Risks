{
 "cells": [
  {
   "cell_type": "markdown",
   "id": "d8af9af4",
   "metadata": {},
   "source": [
    "## Solving the MIS using QuEra's Bloqade.\n",
    "### Travelers/Capgemini/QuEra YQuantum 2025 challenge: Optimizing wildfire insurance portfolios."
   ]
  },
  {
   "cell_type": "markdown",
   "id": "3a213a65",
   "metadata": {},
   "source": [
    "The following two cells are needed to run on qBraid. A qBraid 'environment' may be needed."
   ]
  },
  {
   "cell_type": "code",
   "execution_count": 1,
   "id": "f70f4a24-ae76-465b-94c3-02fc0fcf4a53",
   "metadata": {
    "editable": true,
    "slideshow": {
     "slide_type": ""
    },
    "tags": []
   },
   "outputs": [],
   "source": [
    "#%pip install -r requirements.txt --quiet"
   ]
  },
  {
   "cell_type": "code",
   "execution_count": 2,
   "id": "80bbf540-2be2-4c59-9fc8-0f5a0a00f931",
   "metadata": {},
   "outputs": [],
   "source": [
    "#!qbraid configure magic\n",
    "#%load_ext qbraid_magic\n",
    "\n",
    "# Enable quantum jobs\n",
    "#%qbraid jobs enable braket -y"
   ]
  },
  {
   "cell_type": "code",
   "execution_count": 3,
   "id": "654390cc-3505-43fe-95e3-8b16029db6f4",
   "metadata": {},
   "outputs": [],
   "source": [
    "from bloqade.analog import load, save, get_capabilities, piecewise_linear\n",
    "from bloqade.analog.atom_arrangement import Square\n",
    "\n",
    "import numpy as np\n",
    "import os\n",
    "import matplotlib.pyplot as plt\n",
    "\n",
    "from bokeh.io import output_notebook"
   ]
  },
  {
   "cell_type": "markdown",
   "id": "c4e490e9",
   "metadata": {},
   "source": [
    "Define aquila parameters:"
   ]
  },
  {
   "cell_type": "code",
   "execution_count": 4,
   "id": "a6f9f5d8-d496-4bc3-ad01-d72db2d160fa",
   "metadata": {},
   "outputs": [
    {
     "name": "stdout",
     "output_type": "stream",
     "text": [
      "RbO: 8.36675464062834\n",
      "RbD: 8.408964152537145\n",
      "Delta_end: 15.330075016124338\n",
      "Omega_max: 15.8\n"
     ]
    }
   ],
   "source": [
    "Rb = 7.568067737283432 #Blockade Radius\n",
    "\n",
    "lattice_spacing = 5.0\n",
    "\n",
    "# get capabilities for Aquila\n",
    "aquila_capabilities = get_capabilities()\n",
    "\n",
    "C6 = float(aquila_capabilities.capabilities.rydberg.c6_coefficient)\n",
    "Omega_max = float(aquila_capabilities.capabilities.rydberg.global_.rabi_frequency_max)\n",
    "\n",
    "Rba = np.sqrt(2*np.sqrt(2))\n",
    "Rb = Rba*lattice_spacing\n",
    "\n",
    "Delta_end = (C6)/Rb**6\n",
    "\n",
    "RbO = (C6/Omega_max)**(1/6)\n",
    "RbD = (C6/Delta_end)**(1/6)\n",
    "\n",
    "print(f\"RbO: {RbO}\")\n",
    "print(f\"RbD: {RbD}\")\n",
    "print(f\"Delta_end: {Delta_end}\")\n",
    "print(f\"Omega_max: {Omega_max}\")"
   ]
  },
  {
   "cell_type": "markdown",
   "id": "133fed70",
   "metadata": {},
   "source": [
    "### Helpers and Main Functions\n",
    "\n",
    "There are several result files in this folder generated from a previous run on quantum hardware. If they are used in succession (the respective number for each iteration), they can replace running on hardware, so as not to waste credits when testing. The result files will only work with a `rng` seed of 1234, which generates 4 portfolios. Other `rng` values may cause more iterations to occur (due to a different initial lattice), so the function will run out of files."
   ]
  },
  {
   "cell_type": "code",
   "execution_count": 5,
   "id": "68220550-ddee-4614-92aa-abc57bda6a9d",
   "metadata": {},
   "outputs": [],
   "source": [
    "def n_probable_counts(report, n=1):\n",
    "    \"\"\"\n",
    "    Helper for `post_processing()`.\n",
    "\n",
    "    Args:\n",
    "        report: Report of quantum (hardware or simulated) result.\n",
    "        n (int): Desired number of counts.\n",
    "\n",
    "    Returns:\n",
    "        List of length `n` of most probable counts from the quantum result. \n",
    "    \"\"\"\n",
    "    return list(report.counts()[0].keys())[:n]\n",
    "\n",
    "def remove_site_indices(bitstring):\n",
    "    \"\"\"\n",
    "    Helper for `post_processing()`.\n",
    "\n",
    "    Args:\n",
    "        bitstring (str): Result bitstring.\n",
    "\n",
    "    Returns:\n",
    "        List of removed node indices.\n",
    "    \"\"\"\n",
    "    return [i for i, bit in enumerate(bitstring) if bit == '0']\n",
    "\n",
    "def post_processing(result, lattice, lattice_spacing):\n",
    "    \"\"\"\n",
    "    Creates a new lattice without the nodes in the calculated MIS.\n",
    "\n",
    "    Args:\n",
    "        result: Result from Aquila or simulator.\n",
    "        lattice: Lattice of neutral atoms.\n",
    "        lattice_spacing (float): Lattice spacing used to create lattice.\n",
    "\n",
    "    Returns:\n",
    "        (new_lattice, indices): New lattice without nodes calculated in MIS; \n",
    "        List of indices in the MIS (which were removed from the lattice).\n",
    "    \"\"\"\n",
    "    report = result.report()\n",
    "    bitstring = n_probable_counts(report)[0]\n",
    "    indices = remove_site_indices(bitstring)\n",
    "    \n",
    "    children = lattice.children()\n",
    "    locs = [children[i].position for i in range(len(children))]\n",
    "    filled = [i not in indices for i in range(len(children))]\n",
    "    \n",
    "    new_lattice = Square(0, lattice_spacing=lattice_spacing).add_position(locs, filled).remove_vacant_sites()\n",
    "    return new_lattice, indices\n",
    "\n",
    "def mis(lattice, lattice_spacing, Omega_max, Delta_end, it, global_indices=None, portfolios=None):\n",
    "    \"\"\"\n",
    "    Recursively calculates the maximum indepdent set of a lattice of neutral atoms. \n",
    "    Each time a MIS is calculated, it is removed from the lattice and the process is repeated until no nodes are left.\n",
    "\n",
    "    Args:\n",
    "        lattice: Lattice of neutral atoms. Commonly generated by `Square` or others.\n",
    "        lattice_spacing (float): Lattice spacing used to create the lattice. Needed to create new lattice without calculated MIS.\n",
    "        Omega_max (float): Rabi protocol parameter.\n",
    "        Delta_end (float): Delta protocol parameter.\n",
    "        it (int): The number of the iteration that will be processed (starts at 0).\n",
    "        global_indices (list): Indices of nodes referred to in `portfolios`.\n",
    "        portfolios (list): Set of portfolios (MISs), updated on every run.\n",
    "\n",
    "    Returns:\n",
    "        portfolios (list): Set of calculated MISs. \n",
    "\n",
    "    \"\"\"\n",
    "    if portfolios is None:\n",
    "        portfolios = []\n",
    "    if global_indices is None:\n",
    "        global_indices = list(range(len(lattice.children())))\n",
    "\n",
    "    if len(global_indices) == 0:\n",
    "        return portfolios\n",
    "\n",
    "    #lattice.show() #if running locally with browser\n",
    "    #print(lattice) #if running on qbraid\n",
    "\n",
    "    # Setup annealing pulse\n",
    "    T_max = 4\n",
    "    sweep_time = 0.8 * T_max\n",
    "    ramp_time = 0.1 * T_max\n",
    "    durations = [ramp_time, sweep_time, ramp_time]\n",
    "\n",
    "    RabiProtocol = piecewise_linear(durations, [0.0, Omega_max, Omega_max, 0.0])\n",
    "    DeltaProtocol = piecewise_linear(durations, [-Delta_end, -Delta_end, Delta_end, Delta_end])\n",
    "\n",
    "    program = (\n",
    "        lattice.rydberg.rabi.amplitude.uniform.apply(RabiProtocol)\n",
    "        .detuning.uniform.apply(DeltaProtocol)\n",
    "    )\n",
    "\n",
    "    #result = program.bloqade.python().run(100, interaction_picture=True) # Simulator\n",
    "    #result = program.braket.aquila().run(100) # Hardware\n",
    "\n",
    "    # Optional: save/load results to not waste credits on testing\n",
    "    #save(result, f\"result_{it}.json\")\n",
    "    result = load(f\"quantum_results/result_{it}.json\")\n",
    "\n",
    "    # Remove calculated MIS.\n",
    "    new_lattice, removed_local_indices = post_processing(result, lattice, lattice_spacing)\n",
    "\n",
    "    # Map local indices back to global ones\n",
    "    removed_global_indices = [global_indices[i] for i in removed_local_indices]\n",
    "    portfolios.append(removed_global_indices)\n",
    "\n",
    "    # Prepare global indices for next iteration\n",
    "    new_global_indices = [global_indices[i] for i in range(len(global_indices)) if i not in removed_local_indices]\n",
    "\n",
    "    if len(new_global_indices) == 0:\n",
    "        return portfolios\n",
    "    else:\n",
    "        it += 1\n",
    "        return mis(new_lattice, lattice_spacing, Omega_max, Delta_end, it, new_global_indices, portfolios)"
   ]
  },
  {
   "cell_type": "code",
   "execution_count": 6,
   "id": "8624531b-a60d-4de3-9072-6c19e48eec33",
   "metadata": {},
   "outputs": [
    {
     "name": "stdout",
     "output_type": "stream",
     "text": [
      "MIS portfolios (global indices): [[0, 2, 8, 11], [1, 4, 5, 10], [3, 7, 9], [6]]\n"
     ]
    }
   ],
   "source": [
    "rng = np.random.default_rng(1234)\n",
    "lattice_init = Square(4, lattice_spacing=lattice_spacing).apply_defect_density(0.3, rng=rng).remove_vacant_sites()\n",
    "portfolios = mis(lattice_init, lattice_spacing, Omega_max, Delta_end, it=0)\n",
    "print(\"MIS portfolios (global indices):\", portfolios)"
   ]
  },
  {
   "cell_type": "markdown",
   "id": "2e146f71",
   "metadata": {},
   "source": [
    "### Generate coloring"
   ]
  },
  {
   "cell_type": "code",
   "execution_count": 37,
   "id": "2839c772-e703-4300-985b-5cd3848f4fc7",
   "metadata": {},
   "outputs": [],
   "source": [
    "import networkx as nx\n",
    "import math\n",
    "radius = RbO\n",
    "\n",
    "# Parse Atom locations\n",
    "coordinates = []\n",
    "for loc in lattice_init.location_list:\n",
    "    pos = loc.position\n",
    "    coordinates.append((float(pos[0].value), float(pos[1].value)))\n",
    "\n",
    "G = nx.Graph()\n",
    "    \n",
    "# Add nodes with their positions\n",
    "for idx, coord in enumerate(coordinates):\n",
    "    G.add_node(idx, pos=coord)\n",
    "\n",
    "# Add edges if nodes within blockade radius.\n",
    "n = len(coordinates)\n",
    "for i in range(n):\n",
    "    for j in range(i + 1, n):\n",
    "        if math.hypot(coordinates[i][0] - coordinates[j][0], \n",
    "                        coordinates[i][1] - coordinates[j][1]) <= radius:\n",
    "            G.add_edge(i, j)"
   ]
  },
  {
   "cell_type": "code",
   "execution_count": 38,
   "id": "be3f6d9e-6373-435b-b93a-a755bd53da5a",
   "metadata": {},
   "outputs": [
    {
     "data": {
      "image/png": "[encoded data removed]",
      "text/plain": [
       "<Figure size 640x480 with 1 Axes>"
      ]
     },
     "metadata": {},
     "output_type": "display_data"
    }
   ],
   "source": [
    "colors = ['red', 'blue', 'green', 'yellow', 'magenta', 'cyan', 'orange', 'purple']\n",
    "color_counter=0\n",
    "color_list = ['']*G.number_of_nodes()\n",
    "\n",
    "# Assign colors\n",
    "for l in portfolios:\n",
    "    for node in l:\n",
    "        color_list[node] = colors[color_counter]\n",
    "    \n",
    "    color_counter += 1\n",
    "\n",
    "pos = nx.spring_layout(G, iterations=100, seed=42)\n",
    "nx.draw(\n",
    "   G,\n",
    "   pos=pos,\n",
    "   with_labels=True,\n",
    "   node_color=color_list\n",
    ")"
   ]
  }
 ],
 "metadata": {
  "kernelspec": {
   "display_name": "venv",
   "language": "python",
   "name": "python3"
  },
  "language_info": {
   "codemirror_mode": {
    "name": "ipython",
    "version": 3
   },
   "file_extension": ".py",
   "mimetype": "text/x-python",
   "name": "python",
   "nbconvert_exporter": "python",
   "pygments_lexer": "ipython3",
   "version": "3.12.11"
  }
 },
 "nbformat": 4,
 "nbformat_minor": 5
}
